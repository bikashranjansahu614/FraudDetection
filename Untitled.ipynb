{
 "cells": [
  {
   "cell_type": "code",
   "execution_count": 1,
   "id": "3fce9345-2868-481c-ad3f-a4299bd41983",
   "metadata": {},
   "outputs": [
    {
     "name": "stdout",
     "output_type": "stream",
     "text": [
      " * Serving Flask app '__main__'\n"
     ]
    }
   ],
   "source": [
    "from flask import Flask, request, jsonify\n",
    "import numpy as np\n",
    "from sklearn.linear_model import LogisticRegression\n",
    "from threading import Thread\n",
    "from IPython.display import display, HTML\n",
    "import pickle\n",
    "import warnings\n",
    "warnings.filterwarnings('ignore')\n",
    "\n",
    "\n",
    "# Save model (optional)\n",
    "with open(\"iso_forest_model.pkl\", \"rb\") as f:\n",
    "    model = pickle.load(f)\n",
    "\n",
    "with open(\"scaler.pkl\", \"rb\") as f:\n",
    "    scaler = pickle.load(f)\n",
    "\n",
    "with open(\"label_encoder.pkl\", \"rb\") as f:\n",
    "    le = pickle.load(f)\n",
    "\n",
    "# Create Flask app\n",
    "app = Flask(__name__)\n",
    "\n",
    "@app.route('/')\n",
    "def home():\n",
    "    return \"\"\"\n",
    "    <h1>ML Model Server</h1>\n",
    "    <p>Send POST requests to /predict with JSON data: {\"features\": [value]}</p>\n",
    "    \"\"\"\n",
    "\n",
    "\n",
    "\n",
    "@app.route('/predict', methods=['POST'])\n",
    "def predict():\n",
    "    data = request.json\n",
    "\n",
    "    try:\n",
    "        # Extract input values\n",
    "        tx_type = data['type']  # e.g., \"TRANSFER\"\n",
    "        amount = float(data['amount'])\n",
    "        origin_flag = int(data['origin_flag'])\n",
    "        dest_flag = int(data['dest_flag'])\n",
    "        hour = int(data.get('hour', 12))  # default to noon if missing\n",
    "        day = int(data.get('day', 2))     # default to Tuesday\n",
    "        is_internal = int(origin_flag == 1 and dest_flag == 1)\n",
    "\n",
    "        # Encode type\n",
    "        tx_type_encoded = le.transform([tx_type])[0]\n",
    "\n",
    "        # Final feature array (7 features)\n",
    "        features = np.array([[tx_type_encoded, amount, origin_flag, dest_flag, hour, day, is_internal]])\n",
    "        features_scaled = scaler.transform(features)\n",
    "\n",
    "        # Predict\n",
    "        pred = model.predict(features_scaled)\n",
    "        result = int(pred[0] == -1)\n",
    "\n",
    "        return jsonify({\n",
    "            \"anomaly\": bool(result),\n",
    "            \"message\": \"Anomaly detected\" if result else \"Transaction looks normal\"\n",
    "        })\n",
    "\n",
    "    except Exception as e:\n",
    "        return jsonify({\"error\": str(e)}), 400\n",
    "\n",
    "\n",
    "def run_flask():\n",
    "    app.run(host='0.0.0.0', port=5000, debug=False, use_reloader=False)\n",
    "\n",
    "# Start Flask server in background\n",
    "flask_thread = Thread(target=run_flask)\n",
    "flask_thread.daemon = True  # Thread will exit when notebook is closed\n",
    "flask_thread.start()"
   ]
  },
  {
   "cell_type": "code",
   "execution_count": 4,
   "id": "1928fa6b-f8aa-4e2c-8dcb-323fe9c8d2ae",
   "metadata": {},
   "outputs": [
    {
     "ename": "AttributeError",
     "evalue": "'Thread' object has no attribute 'stop'",
     "output_type": "error",
     "traceback": [
      "\u001b[1;31m---------------------------------------------------------------------------\u001b[0m",
      "\u001b[1;31mAttributeError\u001b[0m                            Traceback (most recent call last)",
      "Cell \u001b[1;32mIn[4], line 1\u001b[0m\n\u001b[1;32m----> 1\u001b[0m flask_thread\u001b[38;5;241m.\u001b[39mstop()\n",
      "\u001b[1;31mAttributeError\u001b[0m: 'Thread' object has no attribute 'stop'"
     ]
    }
   ],
   "source": [
    "flask_thread.stop()"
   ]
  },
  {
   "cell_type": "code",
   "execution_count": null,
   "id": "305fb736-2636-4438-9141-cccc85c3384c",
   "metadata": {},
   "outputs": [],
   "source": []
  }
 ],
 "metadata": {
  "kernelspec": {
   "display_name": "Python [conda env:base] *",
   "language": "python",
   "name": "conda-base-py"
  },
  "language_info": {
   "codemirror_mode": {
    "name": "ipython",
    "version": 3
   },
   "file_extension": ".py",
   "mimetype": "text/x-python",
   "name": "python",
   "nbconvert_exporter": "python",
   "pygments_lexer": "ipython3",
   "version": "3.12.7"
  }
 },
 "nbformat": 4,
 "nbformat_minor": 5
}
